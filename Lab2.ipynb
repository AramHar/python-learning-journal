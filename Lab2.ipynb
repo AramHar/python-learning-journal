{
  "nbformat": 4,
  "nbformat_minor": 0,
  "metadata": {
    "colab": {
      "provenance": []
    },
    "kernelspec": {
      "name": "python3",
      "display_name": "Python 3"
    },
    "language_info": {
      "name": "python"
    }
  },
  "cells": [
    {
      "cell_type": "code",
      "execution_count": null,
      "metadata": {
        "colab": {
          "base_uri": "https://localhost:8080/"
        },
        "id": "biv80PkUe8Hq",
        "outputId": "b00744af-b1d5-43a7-fb01-93d0294ae11e"
      },
      "outputs": [
        {
          "output_type": "stream",
          "name": "stdout",
          "text": [
            "3.106855\n"
          ]
        }
      ],
      "source": [
        "kilometers = 5\n",
        "miles = 0.621371 * kilometers\n",
        "print(miles)"
      ]
    },
    {
      "cell_type": "code",
      "source": [
        "celsius = 90\n",
        "fahrenheit = (celsius * 9/5) + 32\n",
        "print(fahrenheit)"
      ],
      "metadata": {
        "colab": {
          "base_uri": "https://localhost:8080/"
        },
        "id": "l0TCcsoek2Fg",
        "outputId": "15cbcdb3-bec7-4768-a9c1-eca5683add94"
      },
      "execution_count": null,
      "outputs": [
        {
          "output_type": "stream",
          "name": "stdout",
          "text": [
            "194.0\n"
          ]
        }
      ]
    },
    {
      "cell_type": "code",
      "source": [
        "import math\n",
        "\n",
        "decimal = 1*math.pow(2,8) + 0*math.pow(2,7) + 1*math.pow(2,6) + 1*math.pow(2,5) + 0*math.pow(2,4) + 1*math.pow(2,3) + 0*math.pow(2,2) + 0*math.pow(2,1) + 0*math.pow(2,0)\n",
        "print(decimal)"
      ],
      "metadata": {
        "colab": {
          "base_uri": "https://localhost:8080/"
        },
        "id": "79Y__tbg9ml0",
        "outputId": "d76f6e7d-d512-457c-8e22-a4a43b524591"
      },
      "execution_count": 9,
      "outputs": [
        {
          "output_type": "stream",
          "name": "stdout",
          "text": [
            "360.0\n"
          ]
        }
      ]
    }
  ]
}